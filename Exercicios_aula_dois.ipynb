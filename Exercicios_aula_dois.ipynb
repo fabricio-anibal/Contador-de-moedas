{
 "cells": [
  {
   "cell_type": "markdown",
   "metadata": {},
   "source": [
    "# Processamento da Informação - Aula Prática 02\n",
    "\n",
    "Nessa aula você vai estudar alguns exemplos envolvendo a estrutura sintática de desvio condicional (`if`/`else`). Após os exemplos, alguns exercícios são propostos. Você deve responder os exercícios usando as células de código deste notebook.\n"
   ]
  },
  {
   "cell_type": "markdown",
   "metadata": {},
   "source": [
    "### Exemplo 1\n",
    "\n",
    "Gostaríamos de fazer um programa que recebe três valores numéricos positivos e verifica se os três valores podem ser lados de um triângulo.\n",
    "\n",
    "Suponha que os lados do triângulos são guardados em variáveis `a`, `b` e `c`. Para que três valores de comprimento possam formar um triângulo, é preciso que cada um dos lados seja menor que a soma dos dois lados restante. Traduzinho em inequações, as três condições abaixo precisam ser observadas simultaneamente:\n",
    "\\begin{equation}\n",
    "a < b + c\\\\\n",
    "b < a + c\\\\\n",
    "c < a + b\\\\\n",
    "\\end{equation}\n",
    "\n",
    "O nosso programa terá um estrutura semelhante ao trecho abaixo:\n",
    "```python\n",
    "if condicao:\n",
    "    print(\"Pode formar triângulo\")\n",
    "else:\n",
    "    print(\"Não pode formar triângulo\")\n",
    "```\n",
    "\n",
    "O que precisamos fazer agora é encontrar um expressão que substitua `condicao` no trecho acima. Essa expressão deve ser verdadeira *se e somente se* as três inequações acima forem verdadeiras. A operação *E* lógico combina dua expressões **booleanas** (que podem ter valor apenas verdadeiro ou falso) de maneira que a expressão resultante seja verdadeira *se e somente se* as duas sub-expressões sejam verdadeiras também. O operador *E* lógico em python é representado pela palavra **and**. Notamos que a expressão resultante pode ser escrita como `(a < b + c and b < a + c) and c < a + b`.\n",
    "\n",
    "O código final está apresentado na célula abaixo. Você pode editar os valores de `a`, `b` e `c` para testar o código.\n"
   ]
  },
  {
   "cell_type": "code",
   "execution_count": 28,
   "metadata": {},
   "outputs": [
    {
     "name": "stdout",
     "output_type": "stream",
     "text": [
      "Pode formar triângulo\n"
     ]
    }
   ],
   "source": [
    "# primeiro lado\n",
    "a = 4\n",
    "# segundo lado\n",
    "b = 3\n",
    "# terceiro lado\n",
    "c = 5\n",
    "if (a < b + c and b < a + c) and c < a + b:\n",
    "    print(\"Pode formar triângulo\")\n",
    "else:\n",
    "    print(\"Não pode formar triângulo\")\n",
    "    "
   ]
  },
  {
   "cell_type": "markdown",
   "metadata": {},
   "source": [
    "### Exemplo 2\n",
    "\n",
    "Queremos escrever um programa que recebe uma data, representada por uma \n",
    "sequência de três números equivalentes ao dia ($d$), mês ($m$) e ano ($a$).\n",
    "Em seguida, deve imprima qual o dia da semana correspondente. \n",
    "\n",
    "Vamos usar as seguintes formulas para\n",
    "o calendário gregoriano ($d_0$ é o dia da semana calculado, domingo \n",
    "é equivalente a zero, segunda-feira é equivalente a um e assim por diante):\n",
    "\n",
    "\\begin{equation}\n",
    "  a_0 = a - (14 - m) / 12\n",
    "\\end{equation}\n",
    "\\begin{equation}\n",
    "  x = a_0 + a_0/4 - a_0/100 + a_0/400\n",
    "\\end{equation}\n",
    "\\begin{equation}\n",
    "m_0 = m + 12 * ((14 - m) / 12) - 2\n",
    "\\end{equation}\n",
    "\\begin{equation}\n",
    "d_0 = (d + x + (31*m_0)/ 12) \\mod 7\n",
    "\\end{equation}\n",
    "\n",
    "Podemos escrever o código transcrevendo as equações para a linguagem python. Precisamos lembrar que a operação de divisão inteira é representada por `//` e que a operação *mod* (resto da divisão) é representada em python pelo operador `%`. O código resultante é representado abaixo:"
   ]
  },
  {
   "cell_type": "code",
   "execution_count": 29,
   "metadata": {},
   "outputs": [
    {
     "name": "stdout",
     "output_type": "stream",
     "text": [
      "segunda-feira\n"
     ]
    }
   ],
   "source": [
    "# dia\n",
    "d = 18\n",
    "# mes\n",
    "m = 2\n",
    "# ano\n",
    "a = 2019\n",
    "\n",
    "a0 = a - (14 - m)//12\n",
    "x = a0 + a0//4 - a0//100 + a0//400\n",
    "m0 = m + 12*((14 - m)//12) - 2\n",
    "d0 = (d + x + 31*m0//12) % 7\n",
    "\n",
    "if d0 == 0:\n",
    "    print(\"domingo\")\n",
    "elif d0 == 1:\n",
    "    print(\"segunda-feira\")\n",
    "elif d0 == 2:\n",
    "    print(\"terça-feira\")\n",
    "elif d0 == 3:\n",
    "    print(\"quarta-feira\")\n",
    "elif d0 == 4:\n",
    "    print(\"quinta-feira\")\n",
    "elif d0 == 5:\n",
    "    print(\"sexta-feira\")\n",
    "elif d0 == 6:\n",
    "    print(\"sábado\")\n",
    "\n"
   ]
  },
  {
   "cell_type": "markdown",
   "metadata": {},
   "source": [
    "Altere os valores das variáveis `d`, `m` e `a` no código acima e execute novamente a célula. Verifique se o resultado está correto.\n",
    "\n",
    "O que acontece se digitarmos uma data inválida, por exemplo: `d = 30`, `m = 2` e `a = 2019`?"
   ]
  },
  {
   "cell_type": "markdown",
   "metadata": {},
   "source": [
    "### Exemplo 3\n",
    "\n",
    "Vamos criar três variáveis `a`, `b` e `c` com valores diversos. Nosso objetivo é imprimir o maior valor (máximo) e o menor (mínimo) entre os três.\n",
    "\n",
    "Esse problema pode ser resolvido de diversas maneiras. Aqui, vamos optar por criar variáveis `max`e `min` para guardar os valores máximo e mínimo, respectivamente. Como os operadores de comparação `>` e `<` trabalham com dois números de cada vez, precisaremos fazer as comparações em duas etapas.\n",
    "1. Comparar `a` e `b`. Guardar o menor valor em `min` e o maior em `max`.\n",
    "2. Comparar `c` e `min`; caso `c` seja menor, então `c` é o valor mínimo (do contrário, o mínimo já está em `min`). Comparar `c` e `max`; caso `c` seja maior, então `c` é o valor máximo (do contrário, o máximo já está em `max`).\n",
    "\n",
    "Esta lógica está implementada no código abaixo:"
   ]
  },
  {
   "cell_type": "code",
   "execution_count": 30,
   "metadata": {},
   "outputs": [
    {
     "name": "stdout",
     "output_type": "stream",
     "text": [
      "mínimo =  8\n",
      "máximo = 23\n"
     ]
    }
   ],
   "source": [
    "a = 15\n",
    "b = 23\n",
    "c = 8\n",
    "\n",
    "if a < b:\n",
    "    min = a\n",
    "    max = b\n",
    "else:\n",
    "    min = b\n",
    "    max = a\n",
    "if c < min:\n",
    "    min = c\n",
    "if c > max:\n",
    "    max = c\n",
    "\n",
    "print(\"mínimo = \", min)\n",
    "print(\"máximo =\", max)"
   ]
  },
  {
   "cell_type": "markdown",
   "metadata": {},
   "source": [
    "### Exercício 1\n",
    "\n",
    "**Sem executar** o código abaixo, faça um previsão sobre os valores impresso para `a`, `b` e `t` (é importante que você tente fazer a previsão antes de executar o código). \n",
    "\n",
    "```python\n",
    "a = 5\n",
    "b = 10\n",
    "t = a\n",
    "b = t\n",
    "a = b\n",
    "print(a)\n",
    "print(b)\n",
    "print(t)\n",
    "```\n",
    "Agora digite o código listado acima na célula de código abaixo. Execute a célula e confira o resultado com a sua previsão anterior.\n"
   ]
  },
  {
   "cell_type": "code",
   "execution_count": 14,
   "metadata": {},
   "outputs": [
    {
     "name": "stdout",
     "output_type": "stream",
     "text": [
      "5\n",
      "5\n",
      "5\n"
     ]
    }
   ],
   "source": [
    "# copie o código anterior nessa célula e execute\n",
    "a = 5\n",
    "b = 10\n",
    "t = a\n",
    "b = t\n",
    "a = b\n",
    "print(a)\n",
    "print(b)\n",
    "print(t)"
   ]
  },
  {
   "cell_type": "markdown",
   "metadata": {},
   "source": [
    "### Exercício 2\n",
    "\n",
    "Considere o trecho abaixo, em que criamos duas variáveis `x` e `y` e atribuímos valores.\n",
    "\n",
    "```python\n",
    "x = 10\n",
    "y = 25\n",
    "```\n",
    "\n",
    "No trecho a seguir, gostaríamos de inverter os valores de `x` e `y`. Isto é, ao final da execução, `x` deve conter o valor que estava originalmente em `y` e vice-versa. No entanto, as linhas de código foram embaralhadas (cada linha individual faz parte da solução correta, mas a ordem das linhas está errada). Ordene as linhas abaixo para implementar a inversão entre `x` e `y`.\n",
    "\n",
    "```python\n",
    "y = auxiliar\n",
    "x = y\n",
    "auxiliar = x\n",
    "```\n",
    "\n",
    "Você pode testar sua solução na célula de código abaixo:"
   ]
  },
  {
   "cell_type": "code",
   "execution_count": 13,
   "metadata": {},
   "outputs": [
    {
     "name": "stdout",
     "output_type": "stream",
     "text": [
      "10 é y\n",
      "25 é x\n"
     ]
    }
   ],
   "source": [
    "x = 10\n",
    "y = 25\n",
    "auxiliar = x\n",
    "x = y\n",
    "y = auxiliar\n",
    "print(y,\"é y\")\n",
    "print(x,\"é x\")"
   ]
  },
  {
   "cell_type": "markdown",
   "metadata": {},
   "source": [
    "### Exercício 3\n",
    "\n",
    "Vamos guardar na variável `ano` uma valor correspondente a um ano.\n",
    "```\n",
    "ano = 1900\n",
    "```\n",
    "\n",
    "Queremos determinar se a variável guardar um ano bissexto. As regras para que um ano seja bissexto são enumeradas abaixo:\n",
    "1. Um ano é bissexto caso seja divisível por 4 mas não seja divisível por 100.\n",
    "2. Um ano é bissexto caso seja divisível por 400.\n",
    "3. Em todos os demais casos, o ano não é bissexto.\n",
    "\n",
    "Novamente, a listagem abaixo contém as linhas da implementação, mas a ordem das linhas está embaralhada. Você deve colocar as linhas em ordem para obter o código correto.\n",
    "\n",
    "```python\n",
    "else:\n",
    "    print(ano, \"não é bissexto\")\n",
    "else:\n",
    "    bissexto = False\n",
    "elif ano % 400 == 0:\n",
    "    bissexto = True   \n",
    "if bissexto:\n",
    "    print(ano, \"é bissexto\")\n",
    "if ano % 4 == 0 and ano % 100 != 0:\n",
    "    bissexto = True\n",
    "```\n"
   ]
  },
  {
   "cell_type": "code",
   "execution_count": 6,
   "metadata": {},
   "outputs": [
    {
     "name": "stdout",
     "output_type": "stream",
     "text": [
      "1900 não é bissexto\n"
     ]
    }
   ],
   "source": [
    "# você pode usar essa célula para testar seu código\n",
    "ano = 1900\n",
    "if ano % 4 == 0 and ano % 100 != 0:\n",
    "    bissexto = True\n",
    "elif ano % 400 == 0:\n",
    "    bissexto = True   \n",
    "else:\n",
    "    bissexto = False\n",
    "if bissexto:\n",
    "    print(ano, \"é bissexto\")\n",
    "else:\n",
    "    print(ano, \"não é bissexto\")"
   ]
  },
  {
   "cell_type": "markdown",
   "metadata": {},
   "source": [
    "### Exercício 4\n",
    "\n",
    "Vamos guardar um valor inteiro entre $1$ e $99$ em uma variável chamda troco:\n",
    "```python\n",
    "troco = 45\n",
    "```\n",
    "\n",
    "Essa variável representa uma quantidade de centavos de real que queremos representar com a menor quantidade de moedas possível. Nós temos disponíveis moedas de $1$, $5$, $10$, $25$ e $50$ centavos. Escreva na célula abaixo o código para calcular e imprimir a quantidade de cada moeda usada para representar o troco. Por exemplo, para `troco = 35`, o seu programa deve imprimiar algo como `1 moeda de 25 centavos. 1 moeda de 10 centavos.`\n"
   ]
  },
  {
   "cell_type": "code",
   "execution_count": 27,
   "metadata": {},
   "outputs": [
    {
     "name": "stdout",
     "output_type": "stream",
     "text": [
      "0 moedas de 50\n",
      "1 moedas de 25\n",
      "2 moedas de 10\n",
      "0 moedas de 5\n",
      "0 moedas de 1\n"
     ]
    }
   ],
   "source": [
    "troco = 45\n",
    "a = \"\"\n",
    "alinha = \"\"\n",
    "b = \"\"\n",
    "blinha = \"\"\n",
    "c = \"\"\n",
    "clinha = \"\"\n",
    "d = \"\"\n",
    "dlinha = \"\"\n",
    "if troco >= 50:\n",
    "    a= troco // 50\n",
    "    alinha = troco % 50\n",
    "    b= alinha // 25\n",
    "    blinha = alinha % 25\n",
    "    c= blinha // 10\n",
    "    clinha = blinha % 10\n",
    "    d= clinha // 5\n",
    "    dlinha= clinha % 5\n",
    "elif troco >= 25:\n",
    "    a=0\n",
    "    b= troco // 25\n",
    "    blinha = troco % 25\n",
    "    c= blinha // 10\n",
    "    clinha = blinha % 10\n",
    "    d= clinha // 5\n",
    "    dlinha= clinha % 5\n",
    "elif troco >= 10:\n",
    "    a=0\n",
    "    b=0\n",
    "    c= troco // 10\n",
    "    clinha = troco % 10\n",
    "    d= clinha // 5\n",
    "    dlinha= clinha % 5\n",
    "elif troco >= 5:\n",
    "    a=0\n",
    "    b=0\n",
    "    c=0\n",
    "    d= troco // 5\n",
    "    dlinha= troco % 5\n",
    "print(a, \"moedas de 50\")\n",
    "print(b, \"moedas de 25\")\n",
    "print(c, \"moedas de 10\")\n",
    "print(d, \"moedas de 5\")\n",
    "print(dlinha, \"moedas de 1\")"
   ]
  },
  {
   "cell_type": "code",
   "execution_count": null,
   "metadata": {},
   "outputs": [],
   "source": []
  }
 ],
 "metadata": {
  "kernelspec": {
   "display_name": "Python 3",
   "language": "python",
   "name": "python3"
  },
  "language_info": {
   "codemirror_mode": {
    "name": "ipython",
    "version": 3
   },
   "file_extension": ".py",
   "mimetype": "text/x-python",
   "name": "python",
   "nbconvert_exporter": "python",
   "pygments_lexer": "ipython3",
   "version": "3.7.1"
  }
 },
 "nbformat": 4,
 "nbformat_minor": 2
}
